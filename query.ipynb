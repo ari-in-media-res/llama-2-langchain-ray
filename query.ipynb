{
 "cells": [
  {
   "cell_type": "code",
   "execution_count": 1,
   "id": "1c5ea690-7007-4dfa-9a3f-def982247032",
   "metadata": {
    "tags": []
   },
   "outputs": [],
   "source": [
    "import sys\n",
    "import requests\n",
    "import time"
   ]
  },
  {
   "cell_type": "code",
   "execution_count": 33,
   "id": "6c78e66d-96e4-4ca4-99e0-58d2d3e9aaa8",
   "metadata": {
    "tags": []
   },
   "outputs": [],
   "source": [
    "def answer(query):\n",
    "    st = time.time()\n",
    "    response = requests.post(f\"http://localhost:8000/?query={query}\")\n",
    "    et = time.time() - st\n",
    "    print(f\"Response took {et} seconds.\")\n",
    "    return(response.content.decode())"
   ]
  },
  {
   "cell_type": "code",
   "execution_count": 34,
   "id": "f9392243-1b74-4e89-a9f5-2e15ba081600",
   "metadata": {
    "scrolled": true,
    "tags": []
   },
   "outputs": [
    {
     "name": "stdout",
     "output_type": "stream",
     "text": [
      "Response took 0.0076580047607421875 seconds.\n",
      "{\"detail\":\"Method Not Allowed\"}\n"
     ]
    }
   ],
   "source": [
    "query = \"How does ray parallelize computation across multiple actor instances?\"\n",
    "print(answer(query))"
   ]
  },
  {
   "cell_type": "code",
   "execution_count": 22,
   "id": "b807176a-2c3a-4625-8e0b-ec5a8209d2d1",
   "metadata": {
    "scrolled": true,
    "tags": []
   },
   "outputs": [
    {
     "name": "stdout",
     "output_type": "stream",
     "text": [
      "Response took 13.409471035003662 seconds.\n",
      " Based on the context provided, I can answer your question. An ActorPoolingStrategy in Ray is a class that defines how actors should be pooled and scheduled. It is an ExecutionOption attribute that specifies the strategy for pooling and scheduling actors. The ActorPoolingStrategy class is defined in the ray.data module.\n",
      "\n",
      "In Ray, actor pooling is the process of managing a pool of actors that can be used to execute tasks. The ActorPoolingStrategy class provides a way to customize the pooling behavior, such as specifying the maximum number of actors to keep in the pool, or the minimum number of actors to have available at all times.\n",
      "\n",
      "The ActorPoolingStrategy class also provides methods for adding and removing actors from the pool, as well as for checking the current size of the pool. By using an ActorPoolingStrategy, you can customize the behavior of actor pooling in your Ray application.\n"
     ]
    }
   ],
   "source": [
    "query = \"What is an ActorPoolingStrategy in ray?\"\n",
    "print(answer(query))"
   ]
  },
  {
   "cell_type": "code",
   "execution_count": 23,
   "id": "10fbbff6-8c19-4139-b688-762fcbb65ed3",
   "metadata": {
    "scrolled": true,
    "tags": []
   },
   "outputs": [
    {
     "name": "stdout",
     "output_type": "stream",
     "text": [
      "Response took 32.43416690826416 seconds.\n",
      " Sure, I'd be happy to explain the ActorPoolingStrategy in Ray!\n",
      "\n",
      "The ActorPoolingStrategy is a mechanism in Ray that allows you to manage a pool of actor instances for your application. The strategy is responsible for creating, scheduling, and managing the lifecycle of actor instances in the pool.\n",
      "\n",
      "Here are some key aspects of the ActorPoolingStrategy in Ray:\n",
      "\n",
      "1. Instance Creation: The ActorPoolingStrategy creates actor instances based on the number of instances specified in the `actor_count` parameter of the `ExecutionOptions`. The strategy can also create instances with different configurations, such as different numbers of CPU cores or memory allocations.\n",
      "2. Instance Scheduling: Once created, the actor instances are scheduled by the strategy based on their availability and the needs of the application. The strategy can schedule instances to run tasks, handle messages, or perform other actions as needed.\n",
      "3. Lifecycle Management: The ActorPoolingStrategy manages the lifecycle of actor instances in the pool, including starting, stopping, and restarting instances as needed. The strategy can also handle failures and recoveries of instances, ensuring that the pool remains healthy and productive.\n",
      "4. Load Balancing: The ActorPoolingStrategy can distribute tasks across the actor instances in the pool, using load balancing algorithms to ensure that no single instance is overloaded. This helps to improve the performance and scalability of the application.\n",
      "5. Actor Placement Group Removal: When an actor instance is removed from the pool, the ActorPlacementGroupRemoved event is triggered. This event allows the application to take appropriate action, such as rebalancing the workload or cleaning up resources.\n",
      "6. Actor Summaries: The ActorSummaries class provides a summary of the actor instances in the pool, including their current state, resource usage, and other relevant information. This information can be used to monitor the health and performance of the pool.\n",
      "\n",
      "In summary, the ActorPoolingStrategy in Ray provides a flexible and efficient way to manage a pool of actor instances for your application. By leveraging the strategy's capabilities, you can improve the performance, scalability, and reliability of your application, while also simplifying the management of your actor instances.\n"
     ]
    }
   ],
   "source": [
    "query = \"Explain in detail, the ActorPoolingStrategy in ray?\"\n",
    "print(answer(query))"
   ]
  },
  {
   "cell_type": "code",
   "execution_count": 26,
   "id": "d226ff82-7688-4f42-bad8-1706de376f36",
   "metadata": {
    "tags": []
   },
   "outputs": [
    {
     "name": "stdout",
     "output_type": "stream",
     "text": [
      "Response took 0.021578073501586914 seconds.\n",
      " Based on the context provided, I can answer your question about the different parameters in ActorPoolStrategy in Ray.\n",
      "\n",
      "The ActorPoolStrategy class in Ray is responsible for managing the placement of actors in the cluster. It has several parameters that can be configured to customize its behavior. Here are some of the different parameters in ActorPoolStrategy:\n",
      "\n",
      "1. `num_actors`: The number of actors to create in the pool. This parameter is mandatory and must be set before creating an ActorPool.\n",
      "2. `actor_type`: The type of actor to use in the pool. This parameter can be set to a specific actor class or a string representing the actor type (e.g., \"MyActorClass\").\n",
      "3. `max_surviving_actors`: The maximum number of actors that can survive in the pool after a failure. This parameter is optional and defaults to 0, which means there is no limit on the number of surviving actors.\n",
      "4. `min_num_actors`: The minimum number of actors that must be present in the pool before it starts scheduling tasks. This parameter is optional and defaults to 0, which means the pool will start scheduling tasks as soon as it has any available actors.\n",
      "5. `task_timeout`: The timeout period for tasks in the pool. This parameter is optional and defaults to 0, which means there is no timeout for tasks.\n",
      "6. `heartbeat_interval`: The interval at which the actors in the pool send heartbeats to the ActorPoolStrategy. This parameter is optional and defaults to 10 seconds.\n",
      "7. `max_heartbeat_misses`: The maximum number of heartbeat misses allowed before an actor is considered failed. This parameter is optional and defaults to 3.\n",
      "8. `actor_creation_timeout`: The timeout period for creating new actors in the pool. This parameter is optional and defaults to 0, which means there is no timeout for actor creation.\n",
      "9. `actor_shutdown_timeout`: The timeout period for shutting down actors in the pool. This parameter is optional and defaults to 0, which means there is no timeout for actor shutdown.\n",
      "\n",
      "These are just some of the parameters that can be configured in ActorPoolStrategy in Ray. Depending on your specific use case, you may need to adjust these parameters to achieve the desired\n"
     ]
    }
   ],
   "source": [
    "query = \"Act like a programmer and find out all the different parameters in ActorPoolStrategy in ray?\"\n",
    "print(answer(query))"
   ]
  },
  {
   "cell_type": "code",
   "execution_count": 25,
   "id": "9274c44e-87df-443e-a7a9-c8a0ce03cdb5",
   "metadata": {
    "tags": []
   },
   "outputs": [
    {
     "name": "stdout",
     "output_type": "stream",
     "text": [
      "Response took 32.945573806762695 seconds.\n",
      " Sure, I can help you with that! Here's the step-by-step breakdown of how to parallelize the `square` function using Ray:\n",
      "\n",
      "Step 1: Initialize Ray runtime\n",
      "-------------------------------\n",
      "\n",
      "First, we need to initialize the Ray runtime by calling `Ray.init()`. This sets up the necessary infrastructure for running tasks in parallel.\n",
      "\n",
      "Step 2: Create a list of task objects\n",
      "--------------------------------------\n",
      "\n",
      "Next, we create a list of `ObjectRef<Integer>` objects, which will represent the tasks we want to run in parallel. Each task will be represented by an `ObjectRef` object, which contains the ID of the task and other metadata.\n",
      "\n",
      "Step 3: Define the `square` method as a Ray task\n",
      "----------------------------------------------\n",
      "\n",
      "We define the `square` method as a Ray task by annotating it with `@RayMethod`. This tells Ray that this method should be executed as a separate task in parallel. We also specify the return type of the method as `ObjectRef<Integer>`, which means that each task will return an `ObjectRef` object representing the result of the calculation.\n",
      "\n",
      "Here's the code for defining the `square` method as a Ray task:\n",
      "```java\n",
      "@RayMethod\n",
      "public static ObjectRef<Integer> square(int x) {\n",
      "    return x * x;\n",
      "}\n",
      "```\n",
      "Step 4: Invoke the `square` method remotely as Ray tasks\n",
      "---------------------------------------------------\n",
      "\n",
      "Now that we have defined the `square` method as a Ray task, we can invoke it remotely as a series of tasks. We use the `ray.get()` method to submit each task and retrieve the results.\n",
      "\n",
      "Here's the code for invoking the `square` method remotely as Ray tasks:\n",
      "```java\n",
      "List<ObjectRef<Integer>> results = new ArrayList<>();\n",
      "for (int i = 0; i < 4; i++) {\n",
      "    results.add(ray.get(square(i)));\n",
      "}\n",
      "```\n",
      "In this code, we submit four tasks by calling `ray.get()` four times, each with a different argument `i`. The `square` method is invoked remotely for each task, and the results are stored in the `results` list.\n",
      "\n",
      "That's it! With these steps, we have parallelized the `square`\n"
     ]
    }
   ],
   "source": [
    "query = \"Act like a program and break down various steps. I have a function x that calculates the square of the input. Can you prallelize the function using Ray and give me the code?\"\n",
    "print(answer(query))"
   ]
  },
  {
   "cell_type": "code",
   "execution_count": 22,
   "id": "e8cc625c-9c8a-4321-afb1-a7d29330a443",
   "metadata": {
    "tags": []
   },
   "outputs": [
    {
     "name": "stdout",
     "output_type": "stream",
     "text": [
      "Response took 6.327118635177612 seconds.\n",
      " Based on the context provided, yes, Amazon does have its own AI chip called the Amazon Inferentia. It is an edge AI chip designed for deployment in a variety of devices, including smart home devices, robots, drones, and other IoT devices. The chip is built using a custom 7nm process technology and features a dedicated AI accelerator, which enables fast and efficient processing of machine learning workloads.\n"
     ]
    }
   ],
   "source": [
    "query = \"Does Amazon have it's own AI Chip?\"\n",
    "print(answer(query))"
   ]
  },
  {
   "cell_type": "code",
   "execution_count": 23,
   "id": "9c7f1f6f-440d-4b83-a103-c6d72b39de3f",
   "metadata": {
    "tags": []
   },
   "outputs": [
    {
     "name": "stdout",
     "output_type": "stream",
     "text": [
      "Response took 22.616901874542236 seconds.\n",
      " Based on the context provided, I can explain the difference between Amazon SageMaker JumpStart and Amazon Bedrock.\n",
      "\n",
      "Amazon SageMaker JumpStart is a machine learning (ML) hub that provides pre-trained models, including foundation models, to perform various tasks such as article summarization and image generation. These pre-trained models are fully customizable, allowing users to tailor them to their specific use cases and data. Additionally, SageMaker JumpStart offers simplified and powerful tools to help users determine where their content will be stored, secure their content in transit and at rest, and maintain ownership and control over their content.\n",
      "\n",
      "On the other hand, Amazon Bedrock is a serverless platform that allows customers to build and deploy applications without worrying about the underlying infrastructure. Bedrock provides a scalable and secure environment for application development and deployment, with features such as automated scaling, load balancing, and security.\n",
      "\n",
      "The main difference between SageMaker JumpStart and Bedrock is their purpose and functionality. SageMaker JumpStart is focused on providing pre-trained machine learning models and tools for customizing and deploying those models, while Bedrock is focused on providing a serverless platform for building and deploying applications.\n",
      "\n",
      "In summary, if you are looking for a platform to build and deploy machine learning models, Amazon SageMaker JumpStart would be the better choice. However, if you are looking for a serverless platform to build and deploy applications, Amazon Bedrock would be the better choice.\n"
     ]
    }
   ],
   "source": [
    "query = \"Explain in detail. What is the difference between SageMaker JumpStart and Amazon Bedrock\"\n",
    "print(answer(query))"
   ]
  },
  {
   "cell_type": "code",
   "execution_count": null,
   "id": "668d9152-4774-4eae-aaf6-0826ea29fb77",
   "metadata": {},
   "outputs": [],
   "source": []
  }
 ],
 "metadata": {
  "kernelspec": {
   "display_name": "Python 3 (ipykernel)",
   "language": "python",
   "name": "python3"
  },
  "language_info": {
   "codemirror_mode": {
    "name": "ipython",
    "version": 3
   },
   "file_extension": ".py",
   "mimetype": "text/x-python",
   "name": "python",
   "nbconvert_exporter": "python",
   "pygments_lexer": "ipython3",
   "version": "3.9.15"
  }
 },
 "nbformat": 4,
 "nbformat_minor": 5
}
