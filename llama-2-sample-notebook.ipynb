{
 "cells": [
  {
   "cell_type": "code",
   "execution_count": null,
   "id": "3d1cf80a-07b4-4c23-b4a9-542f222386f3",
   "metadata": {
    "tags": []
   },
   "outputs": [],
   "source": [
    "from transformers import AutoTokenizer\n",
    "import transformers\n",
    "import torch\n",
    "import demoConfig\n",
    "\n",
    "model = \"meta-llama/Llama-2-7b-chat-hf\"\n",
    "hf_token = demoConfig.hf_token\n",
    "\n",
    "tokenizer = AutoTokenizer.from_pretrained(model)\n",
    "pipeline = transformers.pipeline(\n",
    "    \"text-generation\",\n",
    "    model=model,\n",
    "    token = hf_token,\n",
    "    torch_dtype=torch.float16,\n",
    "    device_map=\"auto\",\n",
    ")"
   ]
  },
  {
   "cell_type": "code",
   "execution_count": 15,
   "id": "db974f2d-5eda-4f33-bf34-ab802ed5211e",
   "metadata": {
    "tags": []
   },
   "outputs": [
    {
     "name": "stdout",
     "output_type": "stream",
     "text": [
      "Result: Tell me a story about a person writing a tutorial for installing llama 2 where every letter starts with s\n",
      "\n",
      "I'm thrilled to share with you the story of Sarah, a brilliant writer and llama enthusiast. Sarah had a passion for teaching others how to install llama 2, a popular software used for data analysis. She decided to write a tutorial on how to do just that, and what started as a simple guide quickly turned into a masterpiece.\n",
      "S - Sarah began by stating the obvious: \"Sit back, relax, and get ready to learn how to install llama 2 like a pro!\"\n",
      "S - She then provided step-by-step instructions on how to download and install the software, starting with the letter \"S\" for \"Software.\"\n",
      "S - Sarah made sure to include detailed explanations and screenshots to help readers understand each step, from \"Saving the download to your computer\" to \"Setting up\n"
     ]
    }
   ],
   "source": [
    "sequences = pipeline(\n",
    "    'Tell me a story about a person writing a tutorial for installing llama 2 where every letter starts with s\\n',\n",
    "    do_sample=True,\n",
    "    top_k=10,\n",
    "    num_return_sequences=1,\n",
    "    eos_token_id=tokenizer.eos_token_id,\n",
    "    max_length=200,\n",
    ")\n",
    "for seq in sequences:\n",
    "    print(f\"Result: {seq['generated_text']}\")"
   ]
  },
  {
   "cell_type": "code",
   "execution_count": null,
   "id": "63eeca9f-9068-4567-97fc-532dc586744a",
   "metadata": {},
   "outputs": [],
   "source": []
  }
 ],
 "metadata": {
  "kernelspec": {
   "display_name": "Python 3 (ipykernel)",
   "language": "python",
   "name": "python3"
  },
  "language_info": {
   "codemirror_mode": {
    "name": "ipython",
    "version": 3
   },
   "file_extension": ".py",
   "mimetype": "text/x-python",
   "name": "python",
   "nbconvert_exporter": "python",
   "pygments_lexer": "ipython3",
   "version": "3.9.15"
  }
 },
 "nbformat": 4,
 "nbformat_minor": 5
}
