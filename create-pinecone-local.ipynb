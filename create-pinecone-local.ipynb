{
 "cells": [
  {
   "cell_type": "code",
   "execution_count": 11,
   "id": "6541f96e-e503-4331-9c34-f2d78456c135",
   "metadata": {
    "tags": []
   },
   "outputs": [],
   "source": [
    "import os\n",
    "import time\n",
    "from typing import List\n",
    "from bs4 import BeautifulSoup as Soup\n",
    "import numpy as np\n",
    "import ray\n",
    "from langchain.document_loaders import ReadTheDocsLoader, BSHTMLLoader\n",
    "from langchain.document_loaders.recursive_url_loader import RecursiveUrlLoader\n",
    "from langchain.embeddings.base import Embeddings\n",
    "from langchain.text_splitter import RecursiveCharacterTextSplitter\n",
    "from langchain.vectorstores import Pinecone\n",
    "from sentence_transformers import SentenceTransformer\n",
    "from langchain.embeddings import HuggingFaceEmbeddings, SentenceTransformerEmbeddings\n",
    "import pinecone\n",
    "import time\n",
    "import os\n",
    "import demoConfig\n",
    "\n",
    "# from tqdm.auto import tqdm\n",
    "# from uuid import uuid4\n",
    "\n",
    "# add Pinecone API key from app.pinecone.io\n",
    "api_key = demoConfig.pinecone_api_key\n",
    "# set Pinecone environment - find next to API key in console\n",
    "env = demoConfig.pinecone_env\n",
    "index_name = demoConfig.pinecone_index_name\n",
    "\n",
    "pinecone.init(api_key=api_key, environment=env)\n",
    "\n",
    "\n",
    "db_shards = 8\n",
    "# ray.init()\n"
   ]
  },
  {
   "cell_type": "code",
   "execution_count": 2,
   "id": "c2051d44-d232-42c6-a252-79ec592060bf",
   "metadata": {
    "tags": []
   },
   "outputs": [
    {
     "data": {
      "text/plain": [
       "34"
      ]
     },
     "execution_count": 2,
     "metadata": {},
     "output_type": "execute_result"
    }
   ],
   "source": [
    "url = \"https://docs.ray.io/en/latest/\"\n",
    "loader = RecursiveUrlLoader(url=url, max_depth=1, extractor=lambda x: Soup(x, \"html.parser\").text)\n",
    "docs = loader.load()\n",
    "len(docs)"
   ]
  },
  {
   "cell_type": "code",
   "execution_count": 3,
   "id": "535e3643-809d-4de0-996f-5c94a60ada9a",
   "metadata": {
    "tags": []
   },
   "outputs": [],
   "source": [
    "embeddings = HuggingFaceEmbeddings(model_name=\"all-MiniLM-L6-v2\")"
   ]
  },
  {
   "cell_type": "code",
   "execution_count": 5,
   "id": "4f9112ea-ba1b-49b4-bd2b-84f371421ff6",
   "metadata": {
    "tags": []
   },
   "outputs": [],
   "source": [
    "# Create or Reinitialize Pinecone index\n",
    "\n",
    "import time\n",
    "\n",
    "index_name = \"llama-2-7b-example\"\n",
    "\n",
    "if index_name in pinecone.list_indexes():\n",
    "    pinecone.delete_index(index_name)\n",
    "\n",
    "pinecone.create_index(name=index_name, dimension=384, metric=\"cosine\")\n",
    "# wait for index to finish initialization\n",
    "while not pinecone.describe_index(index_name).status[\"ready\"]:\n",
    "    time.sleep(1)"
   ]
  },
  {
   "cell_type": "code",
   "execution_count": 4,
   "id": "c415e5ae-ff0c-4af6-a216-1111c3f06de1",
   "metadata": {
    "tags": []
   },
   "outputs": [],
   "source": [
    "text_splitter = RecursiveCharacterTextSplitter(\n",
    "    # Set a really small chunk size, just to show.\n",
    "    chunk_size=300,\n",
    "    chunk_overlap=100,\n",
    "    length_function=len,\n",
    ")"
   ]
  },
  {
   "cell_type": "code",
   "execution_count": 5,
   "id": "fae5dfbb-de9c-4ec5-a7f1-6c72dd962124",
   "metadata": {
    "tags": []
   },
   "outputs": [
    {
     "name": "stdout",
     "output_type": "stream",
     "text": [
      "Time taken: 0.18439912796020508 seconds. 4184 chunks generated\n"
     ]
    }
   ],
   "source": [
    "st = time.time()\n",
    "chunks = text_splitter.create_documents(\n",
    "    [doc.page_content for doc in docs], metadatas=[doc.metadata for doc in docs]\n",
    ")\n",
    "et = time.time() - st\n",
    "print(f\"Time taken: {et} seconds. {len(chunks)} chunks generated\")"
   ]
  },
  {
   "cell_type": "code",
   "execution_count": 6,
   "id": "92d95ec2-2f97-4b09-9bbd-8df38639c57e",
   "metadata": {
    "scrolled": true,
    "tags": []
   },
   "outputs": [],
   "source": [
    "results = Pinecone.from_documents(chunks, embeddings, index_name=index_name)"
   ]
  },
  {
   "cell_type": "code",
   "execution_count": 7,
   "id": "d46d93d9-f21c-49f7-9a4a-c638001cea30",
   "metadata": {
    "tags": []
   },
   "outputs": [
    {
     "data": {
      "text/plain": [
       "langchain.vectorstores.pinecone.Pinecone"
      ]
     },
     "execution_count": 7,
     "metadata": {},
     "output_type": "execute_result"
    }
   ],
   "source": [
    "type(results)"
   ]
  },
  {
   "cell_type": "code",
   "execution_count": null,
   "id": "4a4ebac8-58c3-4ea8-af17-acb49153499b",
   "metadata": {},
   "outputs": [],
   "source": []
  }
 ],
 "metadata": {
  "kernelspec": {
   "display_name": "Python 3 (ipykernel)",
   "language": "python",
   "name": "python3"
  },
  "language_info": {
   "codemirror_mode": {
    "name": "ipython",
    "version": 3
   },
   "file_extension": ".py",
   "mimetype": "text/x-python",
   "name": "python",
   "nbconvert_exporter": "python",
   "pygments_lexer": "ipython3",
   "version": "3.9.15"
  }
 },
 "nbformat": 4,
 "nbformat_minor": 5
}
