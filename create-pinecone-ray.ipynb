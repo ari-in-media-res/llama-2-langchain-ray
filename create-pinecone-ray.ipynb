{
 "cells": [
  {
   "cell_type": "code",
   "execution_count": 7,
   "metadata": {
    "tags": []
   },
   "outputs": [],
   "source": [
    "import os\n",
    "import time\n",
    "from typing import List\n",
    "from bs4 import BeautifulSoup as Soup\n",
    "import numpy as np\n",
    "import ray\n",
    "from langchain.document_loaders import ReadTheDocsLoader\n",
    "from langchain.document_loaders.recursive_url_loader import RecursiveUrlLoader\n",
    "\n",
    "from langchain.embeddings.base import Embeddings\n",
    "from langchain.text_splitter import RecursiveCharacterTextSplitter\n",
    "from langchain.vectorstores import Pinecone\n",
    "from sentence_transformers import SentenceTransformer\n",
    "from langchain.embeddings import HuggingFaceEmbeddings, SentenceTransformerEmbeddings\n",
    "# from local_embeddings import LocalHuggingFaceEmbeddings\n",
    "import pinecone\n",
    "import time\n",
    "import os\n",
    "from tqdm.auto import tqdm\n",
    "from uuid import uuid4\n",
    "import demoConfig"
   ]
  },
  {
   "cell_type": "code",
   "execution_count": 8,
   "metadata": {
    "tags": []
   },
   "outputs": [],
   "source": [
    "# add Pinecone API key from app.pinecone.io\n",
    "api_key = demoConfig.pinecone_api_key\n",
    "# set Pinecone environment - find next to API key in console\n",
    "env = demoConfig.pinecone_env\n",
    "index_name = demoConfig.pinecone_index_name\n",
    "# initialize pinecone client\n",
    "pinecone.init(api_key=api_key, environment=env)"
   ]
  },
  {
   "cell_type": "code",
   "execution_count": 10,
   "metadata": {
    "tags": []
   },
   "outputs": [
    {
     "name": "stderr",
     "output_type": "stream",
     "text": [
      "2023-09-02 14:58:10,000\tINFO worker.py:1452 -- Connecting to existing Ray cluster at address: 10.0.30.137:6379...\n",
      "2023-09-02 14:58:10,000\tINFO worker.py:1474 -- Calling ray.init() again after it has already been called.\n"
     ]
    },
    {
     "data": {
      "text/html": [
       "<div>\n",
       "    <div style=\"margin-left: 50px;display: flex;flex-direction: row;align-items: center\">\n",
       "        <h3 style=\"color: var(--jp-ui-font-color0)\">Ray</h3>\n",
       "        <svg version=\"1.1\" id=\"ray\" width=\"3em\" viewBox=\"0 0 144.5 144.6\" style=\"margin-left: 3em;margin-right: 3em\">\n",
       "            <g id=\"layer-1\">\n",
       "                <path fill=\"#00a2e9\" class=\"st0\" d=\"M97.3,77.2c-3.8-1.1-6.2,0.9-8.3,5.1c-3.5,6.8-9.9,9.9-17.4,9.6S58,88.1,54.8,81.2c-1.4-3-3-4-6.3-4.1\n",
       "                    c-5.6-0.1-9.9,0.1-13.1,6.4c-3.8,7.6-13.6,10.2-21.8,7.6C5.2,88.4-0.4,80.5,0,71.7c0.1-8.4,5.7-15.8,13.8-18.2\n",
       "                    c8.4-2.6,17.5,0.7,22.3,8c1.3,1.9,1.3,5.2,3.6,5.6c3.9,0.6,8,0.2,12,0.2c1.8,0,1.9-1.6,2.4-2.8c3.5-7.8,9.7-11.8,18-11.9\n",
       "                    c8.2-0.1,14.4,3.9,17.8,11.4c1.3,2.8,2.9,3.6,5.7,3.3c1-0.1,2,0.1,3,0c2.8-0.5,6.4,1.7,8.1-2.7s-2.3-5.5-4.1-7.5\n",
       "                    c-5.1-5.7-10.9-10.8-16.1-16.3C84,38,81.9,37.1,78,38.3C66.7,42,56.2,35.7,53,24.1C50.3,14,57.3,2.8,67.7,0.5\n",
       "                    C78.4-2,89,4.7,91.5,15.3c0.1,0.3,0.1,0.5,0.2,0.8c0.7,3.4,0.7,6.9-0.8,9.8c-1.7,3.2-0.8,5,1.5,7.2c6.7,6.5,13.3,13,19.8,19.7\n",
       "                    c1.8,1.8,3,2.1,5.5,1.2c9.1-3.4,17.9-0.6,23.4,7c4.8,6.9,4.6,16.1-0.4,22.9c-5.4,7.2-14.2,9.9-23.1,6.5c-2.3-0.9-3.5-0.6-5.1,1.1\n",
       "                    c-6.7,6.9-13.6,13.7-20.5,20.4c-1.8,1.8-2.5,3.2-1.4,5.9c3.5,8.7,0.3,18.6-7.7,23.6c-7.9,5-18.2,3.8-24.8-2.9\n",
       "                    c-6.4-6.4-7.4-16.2-2.5-24.3c4.9-7.8,14.5-11,23.1-7.8c3,1.1,4.7,0.5,6.9-1.7C91.7,98.4,98,92.3,104.2,86c1.6-1.6,4.1-2.7,2.6-6.2\n",
       "                    c-1.4-3.3-3.8-2.5-6.2-2.6C99.8,77.2,98.9,77.2,97.3,77.2z M72.1,29.7c5.5,0.1,9.9-4.3,10-9.8c0-0.1,0-0.2,0-0.3\n",
       "                    C81.8,14,77,9.8,71.5,10.2c-5,0.3-9,4.2-9.3,9.2c-0.2,5.5,4,10.1,9.5,10.3C71.8,29.7,72,29.7,72.1,29.7z M72.3,62.3\n",
       "                    c-5.4-0.1-9.9,4.2-10.1,9.7c0,0.2,0,0.3,0,0.5c0.2,5.4,4.5,9.7,9.9,10c5.1,0.1,9.9-4.7,10.1-9.8c0.2-5.5-4-10-9.5-10.3\n",
       "                    C72.6,62.3,72.4,62.3,72.3,62.3z M115,72.5c0.1,5.4,4.5,9.7,9.8,9.9c5.6-0.2,10-4.8,10-10.4c-0.2-5.4-4.6-9.7-10-9.7\n",
       "                    c-5.3-0.1-9.8,4.2-9.9,9.5C115,72.1,115,72.3,115,72.5z M19.5,62.3c-5.4,0.1-9.8,4.4-10,9.8c-0.1,5.1,5.2,10.4,10.2,10.3\n",
       "                    c5.6-0.2,10-4.9,9.8-10.5c-0.1-5.4-4.5-9.7-9.9-9.6C19.6,62.3,19.5,62.3,19.5,62.3z M71.8,134.6c5.9,0.2,10.3-3.9,10.4-9.6\n",
       "                    c0.5-5.5-3.6-10.4-9.1-10.8c-5.5-0.5-10.4,3.6-10.8,9.1c0,0.5,0,0.9,0,1.4c-0.2,5.3,4,9.8,9.3,10\n",
       "                    C71.6,134.6,71.7,134.6,71.8,134.6z\"/>\n",
       "            </g>\n",
       "        </svg>\n",
       "        <table>\n",
       "            <tr>\n",
       "                <td style=\"text-align: left\"><b>Python version:</b></td>\n",
       "                <td style=\"text-align: left\"><b>3.9.15</b></td>\n",
       "            </tr>\n",
       "            <tr>\n",
       "                <td style=\"text-align: left\"><b>Ray version:</b></td>\n",
       "                <td style=\"text-align: left\"><b> 2.5.1</b></td>\n",
       "            </tr>\n",
       "            <tr>\n",
       "    <td style=\"text-align: left\"><b>Dashboard:</b></td>\n",
       "    <td style=\"text-align: left\"><b><a href=\"http://session-qpyhypyxh4newtctgy74s7rshz.i.anyscaleuserdata.com\" target=\"_blank\">http://session-qpyhypyxh4newtctgy74s7rshz.i.anyscaleuserdata.com</a></b></td>\n",
       "</tr>\n",
       "\n",
       "        </table>\n",
       "    </div>\n",
       "</div>\n"
      ],
      "text/plain": [
       "RayContext(dashboard_url='session-qpyhypyxh4newtctgy74s7rshz.i.anyscaleuserdata.com', python_version='3.9.15', ray_version='2.5.1', ray_commit='a03efd9931128d387649dd48b0e4864b43d3bfb4', address_info={'node_ip_address': '10.0.30.137', 'raylet_ip_address': '10.0.30.137', 'redis_address': None, 'object_store_address': '/tmp/ray/session_2023-09-02_13-27-21_383448_2831/sockets/plasma_store', 'raylet_socket_name': '/tmp/ray/session_2023-09-02_13-27-21_383448_2831/sockets/raylet', 'webui_url': '10.0.30.137:8265', 'session_dir': '/tmp/ray/session_2023-09-02_13-27-21_383448_2831', 'metrics_export_port': 8085, 'gcs_address': '10.0.30.137:6379', 'address': '10.0.30.137:6379', 'dashboard_agent_listen_port': 6822, 'node_id': '322c25bbef2bb520f5813fba8ed79afcf49f2888f9d4da26cf8b9cde'})"
      ]
     },
     "execution_count": 10,
     "metadata": {},
     "output_type": "execute_result"
    }
   ],
   "source": [
    "ray.init(ignore_reinit_error=True)"
   ]
  },
  {
   "cell_type": "code",
   "execution_count": 35,
   "metadata": {
    "tags": []
   },
   "outputs": [],
   "source": [
    "url = \"https://aws.amazon.com/sagemaker/\"\n",
    "loader = RecursiveUrlLoader(url=url, max_depth=4, extractor=lambda x: Soup(x, \"html.parser\").text)\n",
    "\n",
    "text_splitter = RecursiveCharacterTextSplitter(\n",
    "    # Set a really small chunk size, just to show.\n",
    "    chunk_size=300,\n",
    "    chunk_overlap=100,\n",
    "    length_function=len,\n",
    ")"
   ]
  },
  {
   "cell_type": "code",
   "execution_count": 36,
   "metadata": {
    "scrolled": true,
    "tags": []
   },
   "outputs": [],
   "source": [
    "embeddings = HuggingFaceEmbeddings(model_name=\"all-MiniLM-L6-v2\")"
   ]
  },
  {
   "cell_type": "code",
   "execution_count": 37,
   "metadata": {
    "tags": []
   },
   "outputs": [
    {
     "name": "stdout",
     "output_type": "stream",
     "text": [
      "Loading documents ...\n",
      "Time taken: 8.614511013031006 seconds. 4127 chunks generated\n"
     ]
    }
   ],
   "source": [
    "# Stage one: read all the docs, split them into chunks.\n",
    "st = time.time()\n",
    "print(\"Loading documents ...\")\n",
    "docs = loader.load()\n",
    "# Theoretically, we could use Ray to accelerate this, but it's fast enough as is.\n",
    "chunks = text_splitter.create_documents(\n",
    "    [doc.page_content for doc in docs], metadatas=[doc.metadata for doc in docs]\n",
    ")\n",
    "et = time.time() - st\n",
    "print(f\"Time taken: {et} seconds. {len(chunks)} chunks generated\")"
   ]
  },
  {
   "cell_type": "code",
   "execution_count": 7,
   "metadata": {
    "scrolled": true,
    "tags": []
   },
   "outputs": [],
   "source": [
    "# Create or Reinitialize Pinecone index\n",
    "\n",
    "import time\n",
    "\n",
    "index_name = \"llama-2-7b-example\"\n",
    "\n",
    "if index_name in pinecone.list_indexes():\n",
    "    pinecone.delete_index(index_name)\n",
    "\n",
    "pinecone.create_index(name=index_name, dimension=384, metric=\"cosine\")\n",
    "# wait for index to finish initialization\n",
    "while not pinecone.describe_index(index_name).status[\"ready\"]:\n",
    "    time.sleep(1)"
   ]
  },
  {
   "cell_type": "code",
   "execution_count": 38,
   "metadata": {
    "tags": []
   },
   "outputs": [],
   "source": [
    "@ray.remote(num_gpus=0.1)\n",
    "def process_shard(shard, embeddings):\n",
    "    import pinecone\n",
    "    # initialize pinecone client\n",
    "    pinecone.init(api_key=api_key, environment=env)\n",
    "    print(f\"Starting process_shard of {len(shard)} chunks.\")\n",
    "    st = time.time()\n",
    "    # batch_size = 100  # can increase but needs larger instance size otherwise instance runs out of memory\n",
    "    result = Pinecone.from_documents(shard, embeddings, index_name=index_name)\n",
    "    et = time.time() - st\n",
    "    print(f\"Shard completed in {et} seconds.\")\n",
    "    return None"
   ]
  },
  {
   "cell_type": "code",
   "execution_count": 39,
   "metadata": {
    "scrolled": true,
    "tags": []
   },
   "outputs": [
    {
     "name": "stdout",
     "output_type": "stream",
     "text": [
      "Loading chunks into vector store ... using 8 shards\n",
      "Shard processing complete. Time taken: 0.8955435752868652 seconds.\n",
      "\u001b[2m\u001b[36m(process_shard pid=164537)\u001b[0m Shard completed in 2.654496431350708 seconds.\u001b[32m [repeated 8x across cluster]\u001b[0m\n",
      "\u001b[2m\u001b[36m(process_shard pid=168854)\u001b[0m Starting process_shard of 516 chunks.\u001b[32m [repeated 8x across cluster]\u001b[0m\n"
     ]
    }
   ],
   "source": [
    "# Stage two: embed the docs.\n",
    "db_shards = 8\n",
    "print(f\"Loading chunks into vector store ... using {db_shards} shards\")\n",
    "st = time.time()\n",
    "shards = np.array_split(chunks, db_shards)\n",
    "\n",
    "futures = [process_shard.remote(shards[i], embeddings) for i in range(db_shards)]\n",
    "# results = ray.get(futures)\n",
    "\n",
    "et = time.time() - st\n",
    "print(f\"Shard processing complete. Time taken: {et} seconds.\")"
   ]
  },
  {
   "cell_type": "code",
   "execution_count": null,
   "metadata": {},
   "outputs": [],
   "source": []
  }
 ],
 "metadata": {
  "kernelspec": {
   "display_name": "Python 3 (ipykernel)",
   "language": "python",
   "name": "python3"
  },
  "language_info": {
   "codemirror_mode": {
    "name": "ipython",
    "version": 3
   },
   "file_extension": ".py",
   "mimetype": "text/x-python",
   "name": "python",
   "nbconvert_exporter": "python",
   "pygments_lexer": "ipython3",
   "version": "3.9.15"
  }
 },
 "nbformat": 4,
 "nbformat_minor": 4
}
